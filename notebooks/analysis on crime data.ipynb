{
 "cells": [
  {
   "cell_type": "markdown",
   "metadata": {},
   "source": [
    "# Will analyse the data of Northern Ireland\n",
    "\n",
    "## Description\n",
    "\n",
    "The received data will be present in a \"data\" folder, which will contain only the necessary ranges that should be analysed\n",
    "The collected data is from https://data.police.uk/data/"
   ]
  },
  {
   "cell_type": "markdown",
   "metadata": {},
   "source": [
    "# Import"
   ]
  },
  {
   "cell_type": "code",
   "execution_count": 10,
   "metadata": {},
   "outputs": [
    {
     "data": {
      "text/plain": [
       "import org.apache.spark.sql.functions.input_file_name\n",
       "import java.io.File\n",
       "import org.apache.spark.sql.DataFrame\n",
       "import org.apache.spark.sql.functions.{collect_list, map, udf}\n"
      ]
     },
     "execution_count": 10,
     "metadata": {},
     "output_type": "execute_result"
    }
   ],
   "source": [
    "import org.apache.spark.sql.functions.input_file_name\n",
    "import java.io.File\n",
    "import org.apache.spark.sql.DataFrame\n",
    "import org.apache.spark.sql.functions.{collect_list, map, udf}"
   ]
  },
  {
   "cell_type": "markdown",
   "metadata": {},
   "source": [
    "# Ingest"
   ]
  },
  {
   "cell_type": "code",
   "execution_count": 11,
   "metadata": {},
   "outputs": [
    {
     "data": {
      "text/plain": [
       "outcomesDf: org.apache.spark.sql.DataFrame = [Crime ID: string, Month: string ... 9 more fields]\n",
       "streetDf: org.apache.spark.sql.DataFrame = [Crime ID: string, Month: string ... 11 more fields]\n"
      ]
     },
     "execution_count": 11,
     "metadata": {},
     "output_type": "execute_result"
    }
   ],
   "source": [
    "var outcomesDf = spark\n",
    "                    .read\n",
    "                    .option(\"header\", \"true\")\n",
    "                    .csv(\"./data/*/*-outcomes.csv\")\n",
    "                    .withColumn(\"districtName\", input_file_name())\n",
    "var streetDf = spark\n",
    "                    .read\n",
    "                    .option(\"header\", \"true\")\n",
    "                    .csv(\"./data/*/*-street.csv\")\n",
    "                    .withColumn(\"districtName\", input_file_name())"
   ]
  },
  {
   "cell_type": "markdown",
   "metadata": {},
   "source": [
    "# Analyse data"
   ]
  },
  {
   "cell_type": "code",
   "execution_count": 12,
   "metadata": {},
   "outputs": [
    {
     "name": "stdout",
     "output_type": "stream",
     "text": [
      "+-------+\n",
      "|  month|\n",
      "+-------+\n",
      "|2018-01|\n",
      "|2018-02|\n",
      "|2018-03|\n",
      "|2018-04|\n",
      "|2018-05|\n",
      "|2018-06|\n",
      "|2018-07|\n",
      "|2018-08|\n",
      "|2018-09|\n",
      "|2018-10|\n",
      "|2018-11|\n",
      "|2018-12|\n",
      "|2019-01|\n",
      "|2019-02|\n",
      "|2019-03|\n",
      "+-------+\n",
      "\n",
      "**** The street dataframe:\n",
      "Crime ID\n",
      "Month\n",
      "Reported by\n",
      "Falls within\n",
      "Longitude\n",
      "Latitude\n",
      "Location\n",
      "LSOA code\n",
      "LSOA name\n",
      "Crime type\n",
      "Last outcome category\n",
      "Context\n",
      "districtName\n",
      "\n",
      "**** The outcomes dataframe:\n",
      "Crime ID\n",
      "Month\n",
      "Reported by\n",
      "Falls within\n",
      "Longitude\n",
      "Latitude\n",
      "Location\n",
      "LSOA code\n",
      "LSOA name\n",
      "Outcome type\n",
      "districtName\n"
     ]
    }
   ],
   "source": [
    "streetDf.select($\"month\").distinct.orderBy($\"month\").show()\n",
    "\n",
    "println(\"**** The street dataframe:\")\n",
    "streetDf.schema.names.foreach(println)\n",
    "\n",
    "println(\"\\n**** The outcomes dataframe:\")\n",
    "outcomesDf.schema.names.foreach(println)"
   ]
  },
  {
   "cell_type": "code",
   "execution_count": 13,
   "metadata": {},
   "outputs": [
    {
     "name": "stdout",
     "output_type": "stream",
     "text": [
      "+----------------------------------------------------------------+-------+---------------------------+---------------------------+---------+---------+--------------------------+---------+-------------------+----------------------------+---------------------------------------------+-------+--------------------------------------------------------------+\n",
      "|Crime ID                                                        |Month  |Reported by                |Falls within               |Longitude|Latitude |Location                  |LSOA code|LSOA name          |Crime type                  |Last outcome category                        |Context|districtName                                                  |\n",
      "+----------------------------------------------------------------+-------+---------------------------+---------------------------+---------+---------+--------------------------+---------+-------------------+----------------------------+---------------------------------------------+-------+--------------------------------------------------------------+\n",
      "|e9fe81ec7a6f5d2a80445f04be3d7e92831dbf3090744ebf94c46f359ca94854|2018-07|Metropolitan Police Service|Metropolitan Police Service|0.774271 |51.148147|On or near Bethersden Road|E01024031|Ashford 012B       |Other theft                 |Status update unavailable                    |null   |file:/home/jovyan/data/2018-07/2018-07-metropolitan-street.csv|\n",
      "|076b796ba1e1ba3f69c9144e2aa7a7bc85b61d51bf7a5966fa1a45fecb1c6aca|2018-07|Metropolitan Police Service|Metropolitan Police Service|-1.007293|51.893136|On or near Prison         |E01017674|Aylesbury Vale 010D|Other crime                 |Court result unavailable                     |null   |file:/home/jovyan/data/2018-07/2018-07-metropolitan-street.csv|\n",
      "|163e996d58995cf87d14f15711fbd87052681919f02029af4739c2eb88be7f5e|2018-07|Metropolitan Police Service|Metropolitan Police Service|0.744706 |52.038219|On or near Hillside Road  |E01029918|Babergh 007F       |Violence and sexual offences|Investigation complete; no suspect identified|null   |file:/home/jovyan/data/2018-07/2018-07-metropolitan-street.csv|\n",
      "+----------------------------------------------------------------+-------+---------------------------+---------------------------+---------+---------+--------------------------+---------+-------------------+----------------------------+---------------------------------------------+-------+--------------------------------------------------------------+\n",
      "only showing top 3 rows\n",
      "\n"
     ]
    }
   ],
   "source": [
    "streetDf.show(3, false)"
   ]
  },
  {
   "cell_type": "code",
   "execution_count": 14,
   "metadata": {},
   "outputs": [
    {
     "name": "stdout",
     "output_type": "stream",
     "text": [
      "total number of records: 8261884\n",
      "total number of distinct crime IDs: 6273525\n",
      "total number of outcomes: 5708337\n",
      "total number of outcomes by distinct crime Ids: 5063409\n"
     ]
    }
   ],
   "source": [
    "println(\"total number of records: \" + streetDf.count)\n",
    "println(\"total number of distinct crime IDs: \" + streetDf.select($\"Crime ID\").distinct.count)\n",
    "println(\"total number of outcomes: \" + outcomesDf.count)\n",
    "println(\"total number of outcomes by distinct crime Ids: \" + outcomesDf.select($\"Crime ID\").distinct.count)"
   ]
  },
  {
   "cell_type": "markdown",
   "metadata": {},
   "source": [
    "### Verify the unicity of the Crime ID"
   ]
  },
  {
   "cell_type": "markdown",
   "metadata": {},
   "source": [
    "From this analysis we can see that there are multiple crimes with the same ID"
   ]
  },
  {
   "cell_type": "code",
   "execution_count": 15,
   "metadata": {},
   "outputs": [
    {
     "name": "stdout",
     "output_type": "stream",
     "text": [
      "60736\n",
      "51716\n",
      "46830\n",
      "56233\n",
      "46526\n"
     ]
    }
   ],
   "source": [
    "// STREET\n",
    "println(streetDf.groupBy($\"Crime ID\")\n",
    "        .agg(count($\"Crime ID\").as(\"count\"))\n",
    "        .where($\"count\" > 1)\n",
    "        .count\n",
    ")\n",
    "\n",
    "// Trying to identify the posibility of a multi-value primary key\n",
    "println(streetDf.groupBy($\"Crime ID\", $\"Month\")\n",
    "        .agg(count($\"Crime ID\").as(\"count\"))\n",
    "        .where($\"count\" > 1)\n",
    "        .count\n",
    ")\n",
    "println(streetDf.groupBy($\"Crime ID\", $\"Longitude\")\n",
    "        .agg(count($\"Crime ID\").as(\"count\"))\n",
    "        .where($\"count\" > 1)\n",
    "        .count\n",
    ")\n",
    "println(streetDf.groupBy($\"Crime ID\", $\"LSOA code\")\n",
    "        .agg(count($\"Crime ID\").as(\"count\"))\n",
    "        .where($\"count\" > 1)\n",
    "        .count\n",
    ")\n",
    "println(streetDf.groupBy($\"Crime ID\", \n",
    "                         $\"Month\", \n",
    "                         $\"Longitude\", \n",
    "                         $\"Latitude\", \n",
    "                         $\"Reported by\", \n",
    "                         $\"LSOA code\", \n",
    "                         $\"Falls within\")\n",
    "        .agg(count($\"Crime ID\").as(\"count\"))\n",
    "        .where($\"count\" > 1)\n",
    "        .count\n",
    ")"
   ]
  },
  {
   "cell_type": "markdown",
   "metadata": {},
   "source": [
    "From the analysis we gather that there is a high chance that these values are just ERRORS, thus a filter should be but in place to rule them out"
   ]
  },
  {
   "cell_type": "code",
   "execution_count": 16,
   "metadata": {},
   "outputs": [
    {
     "name": "stdout",
     "output_type": "stream",
     "text": [
      "+--------------------+--------------------+--------------------+--------------+\n",
      "|            Crime ID|      longitude_list|       longitude_set|count_dictinct|\n",
      "+--------------------+--------------------+--------------------+--------------+\n",
      "|01c4971330ba99d0d...|[-5.761179, -5.84...|[-6.317724, -6.30...|            14|\n",
      "|05835ad9b99479fc3...|[-5.642241, -5.71...|[-6.665021, -5.94...|            14|\n",
      "|06ac8d52630a7d582...|[-2.557898, -2.55...|[-2.557898, -2.55...|             2|\n",
      "|0f16eef9874953881...|[-5.905221, -5.92...|[-5.959611, -7.65...|             9|\n",
      "|14abaa4c688812a6b...|[-2.350023, -2.35...|[-2.351300, -2.35...|             2|\n",
      "|180ec98648a24f6b8...|[-5.700116, -5.85...|[-6.688120, -7.62...|            13|\n",
      "|19b0da5dc82df7534...|[-5.700995, -5.82...|[-5.860830, -7.30...|            15|\n",
      "|1adffe4a3d31f5a5a...|[-5.535522, -5.90...|[-6.303628, -5.93...|            14|\n",
      "|2081173e60040dcd2...|[-5.712780, -5.85...|[-5.931754, -6.11...|            15|\n",
      "|247ff19de8d7a9544...|[-1.949217, -1.95...|[-1.949217, -1.95...|             2|\n",
      "|26c4115526615e931...|[-2.382062, -2.40...|[-2.408787, -2.38...|             2|\n",
      "|28ea5d5462b690099...|[-5.806113, -5.91...|[-7.592636, -6.77...|            14|\n",
      "|2921f8806488c0601...|[-0.080322, -0.08...|[-0.080322, -0.08...|             2|\n",
      "|33010a0bf9727ffad...|[-5.666286, -5.69...|[-5.931754, -6.61...|            15|\n",
      "|387f4c28bae6d30be...|[-0.947233, -0.95...|[-0.953699, -0.94...|             2|\n",
      "|39954ba5b64a4e599...|[-5.670828, -5.70...|[-6.168122, -6.67...|            12|\n",
      "|40fff217660e49ce2...|[-5.702351, -5.86...|[-6.975427, -6.94...|            15|\n",
      "|4280fbb7be6b5faf3...|[-1.120947, -1.36...|[-1.120947, -1.36...|             2|\n",
      "|4dddced897e539971...|[-5.839357, -5.84...|[-5.936493, -6.01...|            15|\n",
      "|4f67297d191c1d8d1...|[-5.676660, -5.70...|[-7.309140, -6.05...|            15|\n",
      "+--------------------+--------------------+--------------------+--------------+\n",
      "only showing top 20 rows\n",
      "\n"
     ]
    },
    {
     "data": {
      "text/plain": [
       "streetMultiIdDf: org.apache.spark.sql.DataFrame = [crimeIdMulti: string]\n"
      ]
     },
     "execution_count": 16,
     "metadata": {},
     "output_type": "execute_result"
    }
   ],
   "source": [
    "var streetMultiIdDf = streetDf.groupBy($\"Crime ID\")\n",
    "                                .agg(count($\"Crime ID\").as(\"count\"))\n",
    "                                .where($\"count\" > 1)\n",
    "                                .select($\"Crime ID\")\n",
    "                                .withColumnRenamed(\"Crime ID\", \"crimeIdMulti\")\n",
    "\n",
    "streetDf.join(streetMultiIdDf, $\"Crime ID\" === $\"crimeIdMulti\", \"inner\")\n",
    "        .groupBy($\"Crime ID\")\n",
    "        .agg(            \n",
    "             collect_list($\"Longitude\").as(\"longitude_list\"), \n",
    "             collect_set($\"Longitude\").as(\"longitude_set\"),\n",
    "             countDistinct($\"Longitude\").as(\"count_dictinct\")\n",
    "            )\n",
    "        .where($\"count_dictinct\" > 1)\n",
    "        .show()"
   ]
  },
  {
   "cell_type": "code",
   "execution_count": 17,
   "metadata": {},
   "outputs": [
    {
     "data": {
      "text/plain": [
       "res8: Long = 492850\n"
      ]
     },
     "execution_count": 17,
     "metadata": {},
     "output_type": "execute_result"
    }
   ],
   "source": [
    "// OUTCOMES\n",
    "outcomesDf.groupBy($\"Crime ID\")\n",
    "        .agg(count($\"Crime ID\").as(\"count\"))\n",
    "        .where($\"count\" > 1)\n",
    "        .count"
   ]
  },
  {
   "cell_type": "code",
   "execution_count": 18,
   "metadata": {},
   "outputs": [
    {
     "name": "stdout",
     "output_type": "stream",
     "text": [
      "+--------------------+--------------------+--------------------+--------------+\n",
      "|            Crime ID|      longitude_list|       longitude_set|count_dictinct|\n",
      "+--------------------+--------------------+--------------------+--------------+\n",
      "|01c4971330ba99d0d...|[-5.761179, -5.84...|[-6.317724, -6.30...|            14|\n",
      "|05835ad9b99479fc3...|[-5.642241, -5.71...|[-6.665021, -5.94...|            14|\n",
      "|06ac8d52630a7d582...|[-2.557898, -2.55...|[-2.557898, -2.55...|             2|\n",
      "|0f16eef9874953881...|[-5.905221, -5.92...|[-5.959611, -7.65...|             9|\n",
      "|14abaa4c688812a6b...|[-2.350023, -2.35...|[-2.351300, -2.35...|             2|\n",
      "|180ec98648a24f6b8...|[-5.700116, -5.85...|[-6.688120, -7.62...|            13|\n",
      "|19b0da5dc82df7534...|[-5.700995, -5.82...|[-5.860830, -7.30...|            15|\n",
      "|1adffe4a3d31f5a5a...|[-5.535522, -5.90...|[-6.303628, -5.93...|            14|\n",
      "|2081173e60040dcd2...|[-5.712780, -5.85...|[-5.931754, -6.11...|            15|\n",
      "|247ff19de8d7a9544...|[-1.949217, -1.95...|[-1.949217, -1.95...|             2|\n",
      "|26c4115526615e931...|[-2.382062, -2.40...|[-2.408787, -2.38...|             2|\n",
      "|28ea5d5462b690099...|[-5.806113, -5.91...|[-7.592636, -6.77...|            14|\n",
      "|2921f8806488c0601...|[-0.080322, -0.08...|[-0.080322, -0.08...|             2|\n",
      "|33010a0bf9727ffad...|[-5.666286, -5.69...|[-5.931754, -6.61...|            15|\n",
      "|387f4c28bae6d30be...|[-0.947233, -0.95...|[-0.953699, -0.94...|             2|\n",
      "|39954ba5b64a4e599...|[-5.670828, -5.70...|[-6.168122, -6.67...|            12|\n",
      "|40fff217660e49ce2...|[-5.702351, -5.86...|[-6.975427, -6.94...|            15|\n",
      "|4280fbb7be6b5faf3...|[-1.120947, -1.36...|[-1.120947, -1.36...|             2|\n",
      "|4dddced897e539971...|[-5.839357, -5.84...|[-5.936493, -6.01...|            15|\n",
      "|4f67297d191c1d8d1...|[-5.676660, -5.70...|[-7.309140, -6.05...|            15|\n",
      "+--------------------+--------------------+--------------------+--------------+\n",
      "only showing top 20 rows\n",
      "\n"
     ]
    },
    {
     "data": {
      "text/plain": [
       "streetMultiIdDf: org.apache.spark.sql.DataFrame = [crimeIdMulti: string]\n"
      ]
     },
     "execution_count": 18,
     "metadata": {},
     "output_type": "execute_result"
    }
   ],
   "source": [
    "var streetMultiIdDf = streetDf.groupBy($\"Crime ID\")\n",
    "                                .agg(count($\"Crime ID\").as(\"count\"))\n",
    "                                .where($\"count\" > 1)\n",
    "                                .select($\"Crime ID\")\n",
    "                                .withColumnRenamed(\"Crime ID\", \"crimeIdMulti\")\n",
    "\n",
    "streetDf.join(streetMultiIdDf, $\"Crime ID\" === $\"crimeIdMulti\", \"inner\")\n",
    "        .groupBy($\"Crime ID\")\n",
    "        .agg(            \n",
    "             collect_list($\"Longitude\").as(\"longitude_list\"), \n",
    "             collect_set($\"Longitude\").as(\"longitude_set\"),\n",
    "             countDistinct($\"Longitude\").as(\"count_dictinct\")\n",
    "            )\n",
    "        .where($\"count_dictinct\" > 1)\n",
    "        .show()"
   ]
  },
  {
   "cell_type": "markdown",
   "metadata": {},
   "source": [
    "# Transformations"
   ]
  },
  {
   "cell_type": "markdown",
   "metadata": {},
   "source": [
    "# Ingest"
   ]
  },
  {
   "cell_type": "code",
   "execution_count": 19,
   "metadata": {},
   "outputs": [
    {
     "data": {
      "text/plain": [
       "outcomesDf: org.apache.spark.sql.DataFrame = [Crime ID: string, Month: string ... 9 more fields]\n",
       "streetDf: org.apache.spark.sql.DataFrame = [Crime ID: string, Month: string ... 11 more fields]\n"
      ]
     },
     "execution_count": 19,
     "metadata": {},
     "output_type": "execute_result"
    }
   ],
   "source": [
    "outcomesDf = spark\n",
    "                    .read\n",
    "                    .option(\"header\", \"true\")\n",
    "                    .csv(\"./data/*/*-outcomes.csv\")\n",
    "                    .withColumn(\"districtName\", input_file_name())\n",
    "streetDf = spark\n",
    "                    .read\n",
    "                    .option(\"header\", \"true\")\n",
    "                    .csv(\"./data/*/*-street.csv\")\n",
    "                    .withColumn(\"districtName\", input_file_name())"
   ]
  },
  {
   "cell_type": "markdown",
   "metadata": {},
   "source": [
    "## Select the minimum required fields"
   ]
  },
  {
   "cell_type": "code",
   "execution_count": 20,
   "metadata": {},
   "outputs": [
    {
     "data": {
      "text/plain": [
       "streetDf: org.apache.spark.sql.DataFrame = [crimeID: string, districtName: string ... 4 more fields]\n",
       "outcomesDf: org.apache.spark.sql.DataFrame = [crimeId: string, outcomeType: string]\n"
      ]
     },
     "execution_count": 20,
     "metadata": {},
     "output_type": "execute_result"
    }
   ],
   "source": [
    "// SELECT\n",
    "streetDf = streetDf.select($\"Crime ID\".as(\"crimeID\"), \n",
    "                           $\"districtName\",\n",
    "                           $\"Latitude\".as(\"latitude\"),\n",
    "                           $\"Longitude\".as(\"longitude\"),\n",
    "                           $\"Crime type\".as(\"crimeType\"),\n",
    "                           $\"Last outcome category\".as(\"lastOutcomeCategory\")\n",
    "                          )\n",
    "outcomesDf = outcomesDf.select($\"Crime ID\".as(\"crimeId\"),\n",
    "                               $\"Outcome type\".as(\"outcomeType\")\n",
    "                              )"
   ]
  },
  {
   "cell_type": "markdown",
   "metadata": {},
   "source": [
    "## Removing duplicate IDs"
   ]
  },
  {
   "cell_type": "code",
   "execution_count": 21,
   "metadata": {},
   "outputs": [
    {
     "data": {
      "text/plain": [
       "streetMultiIdDf: org.apache.spark.sql.DataFrame = [crimeIdMulti: string]\n",
       "outcomesMultiIdDf: org.apache.spark.sql.DataFrame = [crimeIdMulti: string]\n"
      ]
     },
     "execution_count": 21,
     "metadata": {},
     "output_type": "execute_result"
    }
   ],
   "source": [
    "// get DF with duplicate IDs\n",
    "streetMultiIdDf = streetDf.groupBy($\"crimeID\")\n",
    "                                .agg(count($\"crimeID\").as(\"count\"))\n",
    "                                .where($\"count\" > 1)\n",
    "                                .select($\"crimeID\")\n",
    "                                .withColumnRenamed(\"crimeID\", \"crimeIdMulti\")\n",
    "\n",
    "var outcomesMultiIdDf = outcomesDf.groupBy($\"crimeID\")\n",
    "                                .agg(count($\"crimeID\").as(\"count\"))\n",
    "                                .where($\"count\" > 1)\n",
    "                                .select($\"crimeID\")\n",
    "                                .withColumnRenamed(\"crimeID\", \"crimeIdMulti\")"
   ]
  },
  {
   "cell_type": "code",
   "execution_count": 22,
   "metadata": {},
   "outputs": [
    {
     "data": {
      "text/plain": [
       "streetDf: org.apache.spark.sql.DataFrame = [crimeID: string, districtName: string ... 4 more fields]\n",
       "outcomesDf: org.apache.spark.sql.DataFrame = [crimeId: string, outcomeType: string]\n"
      ]
     },
     "execution_count": 22,
     "metadata": {},
     "output_type": "execute_result"
    }
   ],
   "source": [
    "// Filter duplicate IDs\n",
    "streetDf = streetDf.join(streetMultiIdDf, $\"crimeID\" === $\"crimeIdMulti\", \"leftanti\")\n",
    "outcomesDf = outcomesDf.join(outcomesMultiIdDf, $\"crimeID\" === $\"crimeIdMulti\", \"leftanti\")"
   ]
  },
  {
   "cell_type": "code",
   "execution_count": 23,
   "metadata": {},
   "outputs": [
    {
     "name": "stdout",
     "output_type": "stream",
     "text": [
      "8029355\n",
      "4570559\n"
     ]
    }
   ],
   "source": [
    "// Verify the remaining values\n",
    "println(streetDf.count)\n",
    "println(outcomesDf.count)"
   ]
  },
  {
   "cell_type": "markdown",
   "metadata": {},
   "source": [
    "## District name"
   ]
  },
  {
   "cell_type": "markdown",
   "metadata": {},
   "source": [
    "Adding the name of the district"
   ]
  },
  {
   "cell_type": "code",
   "execution_count": 24,
   "metadata": {},
   "outputs": [
    {
     "name": "stdout",
     "output_type": "stream",
     "text": [
      "+----------------------------------------------------------------+---------------+---------+---------+----------------------------+---------------------------------------------+\n",
      "|crimeID                                                         |districtName   |latitude |longitude|crimeType                   |lastOutcomeCategory                          |\n",
      "+----------------------------------------------------------------+---------------+---------+---------+----------------------------+---------------------------------------------+\n",
      "|0006c2f699d8672953293d94af50131ad6b9aee0d5a0c129a8cabc194b7aa912|merseyside     |53.425884|-2.952538|Shoplifting                 |Investigation complete; no suspect identified|\n",
      "|0007023f792cd822fdb06eeb55e8ba44c96404434af0d957654e3b9c9b73ac1b|west midlands  |52.476815|-1.895378|Shoplifting                 |Investigation complete; no suspect identified|\n",
      "|00070d3e37d069af5b16fe9f30cd33108f635dfc0738ba3d78af5d428cbb1710|bedfordshire   |52.134816|-0.483361|Public order                |Formal action is not in the public interest  |\n",
      "|000bdac925f679da7991f767d63817701e9545d1054793d27a3ea2c4f67775de|north yorkshire|54.229990|-1.347311|Violence and sexual offences|Formal action is not in the public interest  |\n",
      "|001127959c7a7590dbff0bffe61e9480e0583fe5dbaa7376d1b5b1d8595afa5b|gwent          |51.780318|-3.208747|Shoplifting                 |Investigation complete; no suspect identified|\n",
      "+----------------------------------------------------------------+---------------+---------+---------+----------------------------+---------------------------------------------+\n",
      "only showing top 5 rows\n",
      "\n"
     ]
    },
    {
     "data": {
      "text/plain": [
       "extractName: org.apache.spark.sql.expressions.UserDefinedFunction = SparkUserDefinedFunction($Lambda$4751/0x0000000840f43040@6aba2420,StringType,List(Some(class[value[0]: string])),None,true,true)\n",
       "streetDf: org.apache.spark.sql.DataFrame = [crimeID: string, districtName: string ... 4 more fields]\n"
      ]
     },
     "execution_count": 24,
     "metadata": {},
     "output_type": "execute_result"
    }
   ],
   "source": [
    "// extract function\n",
    "val extractName = udf((path: String) => new File(path).getName().split(\"-\").drop(2).dropRight(1).mkString(\" \"))\n",
    "\n",
    "// DF with extract\n",
    "streetDf = streetDf.withColumn(\"districtName\", extractName($\"districtName\"))\n",
    "\n",
    "// print\n",
    "streetDf.distinct.show(5, false)"
   ]
  },
  {
   "cell_type": "markdown",
   "metadata": {},
   "source": [
    "## Join to get final outcome"
   ]
  },
  {
   "cell_type": "code",
   "execution_count": 25,
   "metadata": {},
   "outputs": [
    {
     "name": "stdout",
     "output_type": "stream",
     "text": [
      "+--------------------+------------------+---------+---------+--------------------+--------------------+\n",
      "|             crimeID|      districtName| latitude|longitude|           crimeType|         lastOutcome|\n",
      "+--------------------+------------------+---------+---------+--------------------+--------------------+\n",
      "|0006c2f699d867295...|        merseyside|53.425884|-2.952538|         Shoplifting|Investigation com...|\n",
      "|0007023f792cd822f...|     west midlands|52.476815|-1.895378|         Shoplifting|Investigation com...|\n",
      "|001cec56bc43aa35a...|            sussex|51.064738|-0.332847|       Bicycle theft|Investigation com...|\n",
      "|002163e215119dce0...|devon and cornwall|50.351150|-3.600262|Violence and sexu...|Unable to prosecu...|\n",
      "|0024c795b8692eace...|           norfolk|52.485340| 0.519512|Violence and sexu...|Action to be take...|\n",
      "|002c5bd49c4a165f9...|     thames valley|51.458122|-1.476708|Violence and sexu...|Investigation com...|\n",
      "|002e2c23238dbbcd6...|            sussex|50.812559|-0.374688|            Burglary|Investigation com...|\n",
      "|002e5fc85f2d6bf3a...|            durham|54.774222|-1.423850|            Burglary|Unable to prosecu...|\n",
      "|002fd8cc42b661bfb...|       west mercia|52.388024|-2.251112|Theft from the pe...|Investigation com...|\n",
      "|002fe31c42c47d60e...|       northumbria|55.129214|-1.515453|Criminal damage a...|Investigation com...|\n",
      "|0031e8ff296a6bdf6...|    cambridgeshire|52.329957|-0.184222|Violence and sexu...|Unable to prosecu...|\n",
      "|0032fd3c0c29f917d...|              kent|     null|     null|Violence and sexu...|Unable to prosecu...|\n",
      "|00338194bfc04dbea...|     staffordshire|52.626633|-2.151944|Violence and sexu...|Action to be take...|\n",
      "|0034028cad2404127...|         cleveland|54.606096|-1.073173|Violence and sexu...|Unable to prosecu...|\n",
      "|0037d66b60c933f72...|           cumbria|54.320521|-2.746572|Violence and sexu...|Investigation com...|\n",
      "|003ab13aeec5f2eda...|greater manchester|53.514377|-2.351346|Criminal damage a...|Investigation com...|\n",
      "|003c19e4547e0f0a1...|      metropolitan|51.547097|-0.009573|         Other crime|Investigation com...|\n",
      "|003ed2f68c0f61166...|      metropolitan|51.556772|-0.285145|         Other theft|Investigation com...|\n",
      "|0049caaf747c3043d...|devon and cornwall|50.442355|-4.561556|Violence and sexu...|Unable to prosecu...|\n",
      "|004b0994414c051c9...|       dyfed powys|51.717747|-5.033104|Criminal damage a...|Unable to prosecu...|\n",
      "+--------------------+------------------+---------+---------+--------------------+--------------------+\n",
      "only showing top 20 rows\n",
      "\n"
     ]
    },
    {
     "data": {
      "text/plain": [
       "finalDf: org.apache.spark.sql.DataFrame = [crimeID: string, districtName: string ... 4 more fields]\n"
      ]
     },
     "execution_count": 25,
     "metadata": {},
     "output_type": "execute_result"
    }
   ],
   "source": [
    "val finalDf = streetDf.join(outcomesDf, Seq(\"crimeID\"), \"inner\")\n",
    "                      .withColumn(\"lastOutcome\", when($\"outcomeType\".isNotNull, $\"outcomeType\")\n",
    "                                                      .otherwise($\"lastOutcomeCategory\") \n",
    "                                 )\n",
    "                      .select($\"crimeID\",\n",
    "                              $\"districtName\",\n",
    "                              $\"latitude\",\n",
    "                              $\"longitude\",\n",
    "                              $\"crimeType\",\n",
    "                              $\"lastOutcome\"                              \n",
    "                             )\n",
    "\n",
    "finalDf.show"
   ]
  },
  {
   "cell_type": "markdown",
   "metadata": {},
   "source": [
    "# KPI"
   ]
  },
  {
   "cell_type": "code",
   "execution_count": 26,
   "metadata": {},
   "outputs": [
    {
     "name": "stdout",
     "output_type": "stream",
     "text": [
      "+----------------------------+-------+\n",
      "|crimeType                   |count  |\n",
      "+----------------------------+-------+\n",
      "|Violence and sexual offences|1491597|\n",
      "|Criminal damage and arson   |533891 |\n",
      "|Other theft                 |468270 |\n",
      "|Vehicle crime               |400012 |\n",
      "|Burglary                    |371944 |\n",
      "|Public order                |361977 |\n",
      "|Shoplifting                 |302199 |\n",
      "|Drugs                       |105926 |\n",
      "|Other crime                 |79373  |\n",
      "|Bicycle theft               |76815  |\n",
      "|Theft from the person       |63594  |\n",
      "|Robbery                     |56783  |\n",
      "|Possession of weapons       |29818  |\n",
      "+----------------------------+-------+\n",
      "\n"
     ]
    }
   ],
   "source": [
    "finalDf.groupBy(\"crimeType\")\n",
    "       .agg(count($\"crimeID\").as(\"count\"))\n",
    "       .orderBy($\"count\".desc)\n",
    "       .show(false)"
   ]
  },
  {
   "cell_type": "code",
   "execution_count": null,
   "metadata": {},
   "outputs": [],
   "source": []
  }
 ],
 "metadata": {
  "kernelspec": {
   "display_name": "spylon-kernel",
   "language": "scala",
   "name": "spylon-kernel"
  },
  "language_info": {
   "codemirror_mode": "text/x-scala",
   "file_extension": ".scala",
   "help_links": [
    {
     "text": "MetaKernel Magics",
     "url": "https://metakernel.readthedocs.io/en/latest/source/README.html"
    }
   ],
   "mimetype": "text/x-scala",
   "name": "scala",
   "pygments_lexer": "scala",
   "version": "0.4.1"
  }
 },
 "nbformat": 4,
 "nbformat_minor": 4
}
